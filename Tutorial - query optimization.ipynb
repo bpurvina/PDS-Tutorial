{
 "cells": [
  {
   "cell_type": "markdown",
   "metadata": {},
   "source": [
    "Beata Purvina\n",
    "\n",
    "# SQL Query Optimization Tutorial\n",
    "\n",
    "In this tutorial we'll explore different ways to optimize SQL database queries using indexes, views, temporary tables, and subqueries. We will be using the [sqlite3 library](https://docs.python.org/2/library/sqlite3.html) to perform queries on our database and a [function](https://pandas.pydata.org/pandas-docs/stable/reference/api/pandas.read_sql_query.html) from pandas library to see the output from our queries. We'll be connecting directly to the chinook.db database file provided by [SQLite](https://www.sqlitetutorial.net/sqlite-sample-database/). This tutorial assumes basic knowledge of SQL."
   ]
  },
  {
   "cell_type": "markdown",
   "metadata": {},
   "source": [
    "In practice, database queries are finetuned to run efficiently based on each query's unique inefficiency. These vary widely based on how often the database is updated, how often the query is performed, and whether the user prefers faster read operations or faster write operations, amongst other factors.\n",
    "\n",
    "For the purposes of this tutorial, we'll be working on a relatively small dataset so the time differences between efficient and less efficient queries will be small, if at all evident. The goal is to become familiar with the common tools that can be used to speed up most queries on large datasets. As tables in the database grow large, smallest adjustments to queries can make significant execution time differences."
   ]
  },
  {
   "cell_type": "markdown",
   "metadata": {},
   "source": [
    "Throughout this tutorial it will be useful to refer to the following chinook database diagram which lists all tables and their relations. Table names are written as orange headers and column names are listed under each table header. Yellow keys mark the primary keys of each table."
   ]
  },
  {
   "cell_type": "markdown",
   "metadata": {},
   "source": [
    "![Chinook database diagram](database.jpg)"
   ]
  },
  {
   "cell_type": "markdown",
   "metadata": {},
   "source": [
    "Things we'll cover:\n",
    "\n",
    "0. [Set Up](#Part-0:-Set-Up)\n",
    "1. [Indexes](#Part-1:-Indexes)\n",
    "2. [Views](#Part-2:-Views)\n",
    "3. [Temporary Tables](#Part-3:-Temporary-Tables)\n",
    "4. [Subqueries](#Part-4:-Subqueries)\n",
    "5. [Additional Resources](#Additional-Resources)\n"
   ]
  },
  {
   "cell_type": "markdown",
   "metadata": {},
   "source": [
    "## Part 0: Set Up\n",
    "\n",
    "We'll first connect to the chinook.db database file stored in the same directory as the tutorial and define a helper funtion that will execute our queries in chinook and output the time each query took to compute. An additional copy of chinook.db as it is provided by SQLite is stored in the _Clean_ folder and can also be downloaded [here](https://www.sqlitetutorial.net/sqlite-sample-database/) so indexes, views and temporary tables can be recreated again."
   ]
  },
  {
   "cell_type": "code",
   "execution_count": 1,
   "metadata": {},
   "outputs": [],
   "source": [
    "import sqlite3\n",
    "import pandas as pd\n",
    "import time"
   ]
  },
  {
   "cell_type": "code",
   "execution_count": 2,
   "metadata": {},
   "outputs": [],
   "source": [
    "# Connect to the chinook database\n",
    "conn = sqlite3.connect(\"chinook.db\")\n",
    "c = conn.cursor()"
   ]
  },
  {
   "cell_type": "code",
   "execution_count": 3,
   "metadata": {},
   "outputs": [],
   "source": [
    "# Helper function\n",
    "def time_to_execute(sql):\n",
    "    start = time.time()\n",
    "    c.execute(sql)\n",
    "    print('Time to execute: %.4f sec' %(time.time() - start))"
   ]
  },
  {
   "cell_type": "markdown",
   "metadata": {},
   "source": [
    "## Part 1: Indexes\n",
    "\n",
    "Indexes are often the first go-to mechanism for speeding up queries. They allow faster row lookup for a given column name. Instead of having to iterate through every row in a table, the program quckly determines the position of the needed row based on a given indexed column value. Primary keys in a table are indexed by default, but additional indexes based on one or more columns and column expressions can be created manually. In the chinkook database that we'll be using all primary keys and foreign keys are indexed."
   ]
  },
  {
   "cell_type": "markdown",
   "metadata": {},
   "source": [
    "As an example, suppose we would like to see all tracks in our database that are between 2 and 5 minutes in length. We'd like to list each such track's name and length in minutes. \n",
    "\n",
    "For our own reference, let's first see what we're working with by computing the total number of tracks and the lengths of the longest and shortest tracks."
   ]
  },
  {
   "cell_type": "code",
   "execution_count": 4,
   "metadata": {},
   "outputs": [
    {
     "data": {
      "text/plain": [
       "[(3503,)]"
      ]
     },
     "execution_count": 4,
     "metadata": {},
     "output_type": "execute_result"
    }
   ],
   "source": [
    "# Total number of tracks: 3503\n",
    "c.execute(\"\"\"SELECT COUNT(*) FROM tracks\"\"\")\n",
    "c.fetchall()"
   ]
  },
  {
   "cell_type": "code",
   "execution_count": 5,
   "metadata": {},
   "outputs": [
    {
     "data": {
      "text/plain": [
       "[(88, 1)]"
      ]
     },
     "execution_count": 5,
     "metadata": {},
     "output_type": "execute_result"
    }
   ],
   "source": [
    "# Length of longest track: ~88 minutes\n",
    "# Length of shorest track: ~1 second\n",
    "c.execute(\"\"\"SELECT MAX(Milliseconds)/60000, MIN(Milliseconds)/1000 FROM tracks\"\"\")\n",
    "c.fetchall()"
   ]
  },
  {
   "cell_type": "markdown",
   "metadata": {},
   "source": [
    "Let's first find all tracks that are between 2 and 5 minutes in length without creating any additional indexes. Remember that _TrackID_ is the primary key of the tracks table so it is indexed by default and foreign keys _AlbumId, MediaTypeId_ and _GenreId_ are indexed, as well."
   ]
  },
  {
   "cell_type": "code",
   "execution_count": 6,
   "metadata": {},
   "outputs": [
    {
     "name": "stdout",
     "output_type": "stream",
     "text": [
      "Time to execute: 0.0049 sec\n"
     ]
    }
   ],
   "source": [
    "track_len = \"\"\"SELECT Name, (Milliseconds/60000) as Length \n",
    "            FROM tracks \n",
    "            WHERE (Milliseconds/60000) BETWEEN 2 AND 5\n",
    "            ORDER BY Milliseconds DESC\"\"\"\n",
    "\n",
    "time_to_execute(track_len)"
   ]
  },
  {
   "cell_type": "code",
   "execution_count": 7,
   "metadata": {},
   "outputs": [
    {
     "data": {
      "text/html": [
       "<div>\n",
       "<style scoped>\n",
       "    .dataframe tbody tr th:only-of-type {\n",
       "        vertical-align: middle;\n",
       "    }\n",
       "\n",
       "    .dataframe tbody tr th {\n",
       "        vertical-align: top;\n",
       "    }\n",
       "\n",
       "    .dataframe thead th {\n",
       "        text-align: right;\n",
       "    }\n",
       "</style>\n",
       "<table border=\"1\" class=\"dataframe\">\n",
       "  <thead>\n",
       "    <tr style=\"text-align: right;\">\n",
       "      <th></th>\n",
       "      <th>Name</th>\n",
       "      <th>Length</th>\n",
       "    </tr>\n",
       "  </thead>\n",
       "  <tbody>\n",
       "    <tr>\n",
       "      <td>0</td>\n",
       "      <td>2 Minutes To Midnight</td>\n",
       "      <td>5</td>\n",
       "    </tr>\n",
       "    <tr>\n",
       "      <td>1</td>\n",
       "      <td>Carolina Hard-Core Ecstasy</td>\n",
       "      <td>5</td>\n",
       "    </tr>\n",
       "    <tr>\n",
       "      <td>2</td>\n",
       "      <td>Loosen My Strings</td>\n",
       "      <td>5</td>\n",
       "    </tr>\n",
       "    <tr>\n",
       "      <td>3</td>\n",
       "      <td>Too Many Tears</td>\n",
       "      <td>5</td>\n",
       "    </tr>\n",
       "    <tr>\n",
       "      <td>4</td>\n",
       "      <td>Black Moon Creeping</td>\n",
       "      <td>5</td>\n",
       "    </tr>\n",
       "    <tr>\n",
       "      <td>...</td>\n",
       "      <td>...</td>\n",
       "      <td>...</td>\n",
       "    </tr>\n",
       "    <tr>\n",
       "      <td>2782</td>\n",
       "      <td>Papeau Nuky Doe</td>\n",
       "      <td>2</td>\n",
       "    </tr>\n",
       "    <tr>\n",
       "      <td>2783</td>\n",
       "      <td>A Different Kind Of Blue</td>\n",
       "      <td>2</td>\n",
       "    </tr>\n",
       "    <tr>\n",
       "      <td>2784</td>\n",
       "      <td>She's A Rebel</td>\n",
       "      <td>2</td>\n",
       "    </tr>\n",
       "    <tr>\n",
       "      <td>2785</td>\n",
       "      <td>Aria Mit 30 Veränderungen, BWV 988 \"Goldberg V...</td>\n",
       "      <td>2</td>\n",
       "    </tr>\n",
       "    <tr>\n",
       "      <td>2786</td>\n",
       "      <td>Music for the Royal Fireworks, HWV351 (1749): ...</td>\n",
       "      <td>2</td>\n",
       "    </tr>\n",
       "  </tbody>\n",
       "</table>\n",
       "<p>2787 rows × 2 columns</p>\n",
       "</div>"
      ],
      "text/plain": [
       "                                                   Name  Length\n",
       "0                                 2 Minutes To Midnight       5\n",
       "1                            Carolina Hard-Core Ecstasy       5\n",
       "2                                     Loosen My Strings       5\n",
       "3                                        Too Many Tears       5\n",
       "4                                   Black Moon Creeping       5\n",
       "...                                                 ...     ...\n",
       "2782                                    Papeau Nuky Doe       2\n",
       "2783                           A Different Kind Of Blue       2\n",
       "2784                                      She's A Rebel       2\n",
       "2785  Aria Mit 30 Veränderungen, BWV 988 \"Goldberg V...       2\n",
       "2786  Music for the Royal Fireworks, HWV351 (1749): ...       2\n",
       "\n",
       "[2787 rows x 2 columns]"
      ]
     },
     "execution_count": 7,
     "metadata": {},
     "output_type": "execute_result"
    }
   ],
   "source": [
    "# To see output\n",
    "pd.read_sql_query(track_len, conn)"
   ]
  },
  {
   "cell_type": "markdown",
   "metadata": {},
   "source": [
    "To see how the query is computed we can use the _EXPLAIN_ command."
   ]
  },
  {
   "cell_type": "code",
   "execution_count": 8,
   "metadata": {},
   "outputs": [
    {
     "data": {
      "text/html": [
       "<div>\n",
       "<style scoped>\n",
       "    .dataframe tbody tr th:only-of-type {\n",
       "        vertical-align: middle;\n",
       "    }\n",
       "\n",
       "    .dataframe tbody tr th {\n",
       "        vertical-align: top;\n",
       "    }\n",
       "\n",
       "    .dataframe thead th {\n",
       "        text-align: right;\n",
       "    }\n",
       "</style>\n",
       "<table border=\"1\" class=\"dataframe\">\n",
       "  <thead>\n",
       "    <tr style=\"text-align: right;\">\n",
       "      <th></th>\n",
       "      <th>id</th>\n",
       "      <th>parent</th>\n",
       "      <th>notused</th>\n",
       "      <th>detail</th>\n",
       "    </tr>\n",
       "  </thead>\n",
       "  <tbody>\n",
       "    <tr>\n",
       "      <td>0</td>\n",
       "      <td>3</td>\n",
       "      <td>0</td>\n",
       "      <td>0</td>\n",
       "      <td>SCAN TABLE tracks</td>\n",
       "    </tr>\n",
       "    <tr>\n",
       "      <td>1</td>\n",
       "      <td>16</td>\n",
       "      <td>0</td>\n",
       "      <td>0</td>\n",
       "      <td>USE TEMP B-TREE FOR ORDER BY</td>\n",
       "    </tr>\n",
       "  </tbody>\n",
       "</table>\n",
       "</div>"
      ],
      "text/plain": [
       "   id  parent  notused                        detail\n",
       "0   3       0        0             SCAN TABLE tracks\n",
       "1  16       0        0  USE TEMP B-TREE FOR ORDER BY"
      ]
     },
     "execution_count": 8,
     "metadata": {},
     "output_type": "execute_result"
    }
   ],
   "source": [
    "# See how query will be executed\n",
    "pd.read_sql_query(\"EXPLAIN QUERY PLAN \" + track_len, conn)"
   ]
  },
  {
   "cell_type": "markdown",
   "metadata": {},
   "source": [
    "Based on the _EXPLAIN_ output, we see that the program iteratevely scanned the _tracks_ table to find the values of _Milliseconds_ column that satisfy our condition.\n",
    "\n",
    "Now let's create an index named _track_len_min_ for the _Milliseconds_ column since we are using that column in our _WHERE_ condition and run our query again. Note that we'll need to create an index based on the exact expression _Milliseconds/60000_ that we use in our _WHERE_ clause. Otherwise the index will not be used."
   ]
  },
  {
   "cell_type": "code",
   "execution_count": 9,
   "metadata": {},
   "outputs": [],
   "source": [
    "create_len_idx = \"\"\"\n",
    "        CREATE INDEX IF NOT EXISTS track_len_min \n",
    "        ON tracks(Milliseconds/60000)\"\"\"\n",
    "\n",
    "c.execute(create_len_idx)\n",
    "conn.commit()"
   ]
  },
  {
   "cell_type": "code",
   "execution_count": 10,
   "metadata": {},
   "outputs": [
    {
     "name": "stdout",
     "output_type": "stream",
     "text": [
      "Time to execute: 0.0134 sec\n"
     ]
    }
   ],
   "source": [
    "time_to_execute(track_len)"
   ]
  },
  {
   "cell_type": "code",
   "execution_count": 11,
   "metadata": {},
   "outputs": [
    {
     "data": {
      "text/html": [
       "<div>\n",
       "<style scoped>\n",
       "    .dataframe tbody tr th:only-of-type {\n",
       "        vertical-align: middle;\n",
       "    }\n",
       "\n",
       "    .dataframe tbody tr th {\n",
       "        vertical-align: top;\n",
       "    }\n",
       "\n",
       "    .dataframe thead th {\n",
       "        text-align: right;\n",
       "    }\n",
       "</style>\n",
       "<table border=\"1\" class=\"dataframe\">\n",
       "  <thead>\n",
       "    <tr style=\"text-align: right;\">\n",
       "      <th></th>\n",
       "      <th>id</th>\n",
       "      <th>parent</th>\n",
       "      <th>notused</th>\n",
       "      <th>detail</th>\n",
       "    </tr>\n",
       "  </thead>\n",
       "  <tbody>\n",
       "    <tr>\n",
       "      <td>0</td>\n",
       "      <td>4</td>\n",
       "      <td>0</td>\n",
       "      <td>0</td>\n",
       "      <td>SEARCH TABLE tracks USING INDEX track_len_min ...</td>\n",
       "    </tr>\n",
       "    <tr>\n",
       "      <td>1</td>\n",
       "      <td>16</td>\n",
       "      <td>0</td>\n",
       "      <td>0</td>\n",
       "      <td>USE TEMP B-TREE FOR ORDER BY</td>\n",
       "    </tr>\n",
       "  </tbody>\n",
       "</table>\n",
       "</div>"
      ],
      "text/plain": [
       "   id  parent  notused                                             detail\n",
       "0   4       0        0  SEARCH TABLE tracks USING INDEX track_len_min ...\n",
       "1  16       0        0                       USE TEMP B-TREE FOR ORDER BY"
      ]
     },
     "execution_count": 11,
     "metadata": {},
     "output_type": "execute_result"
    }
   ],
   "source": [
    "# See how query will be executed\n",
    "pd.read_sql_query(\"EXPLAIN QUERY PLAN \" + track_len, conn)"
   ]
  },
  {
   "cell_type": "markdown",
   "metadata": {},
   "source": [
    "After running our query again, this time on an indexed condition, we see in the _EXPLAIN_ output that the index _track_len_min_ was indeed used to compute our query. The underlying algorithm no longer needed to scan every row in our table to find the _Milliseconds_ entries that matched our condition and instead was able to perform a quicker search. While scanning the table does about $O(n)$ work, search on an indexed column does $O(\\log n)$ work.\n",
    "\n",
    "However, since our table is relatively small, the overhead costs of using indexes may outweigh the time gains. In practice, we would refrain from using indexes on small tables.\n",
    "\n",
    "In order to drop an index, we can use the following command."
   ]
  },
  {
   "cell_type": "code",
   "execution_count": 12,
   "metadata": {},
   "outputs": [],
   "source": [
    "c.execute(\"\"\"DROP INDEX IF EXISTS track_len_min\"\"\")\n",
    "conn.commit()"
   ]
  },
  {
   "cell_type": "markdown",
   "metadata": {},
   "source": [
    "## Part 2: Views\n",
    "\n",
    "In this part of our tutorial we'll explore a way to write an efficient a query that's based on combining data from multiple tables. Views are table-like structures that can be created from a query, stored in a database and queried. Views are often used for de-normalizing data and cutomizing outputs for specific users. De-normalizing data essentially means combining multiple entities into a single table. In a proper database design, each table should store data about a single entity to avoid data redundancy which leads to [anomalies](https://databasemanagement.fandom.com/wiki/Category:Data_Anomalies). However, queries on de-normalized data are often much more time efficient. Once a view is created, it is visible to multiple clients using the database, unlike temporary tables (that we'll cover in part 3), which are session-specific."
   ]
  },
  {
   "cell_type": "markdown",
   "metadata": {},
   "source": [
    "Suppose we would like to compute the top 5 best-selling albums for a specific year. The most intuitive way to do this would be joining 5 tables and specifying the year of interest."
   ]
  },
  {
   "cell_type": "code",
   "execution_count": 13,
   "metadata": {},
   "outputs": [
    {
     "name": "stdout",
     "output_type": "stream",
     "text": [
      "Time to execute: 0.0080 sec\n"
     ]
    }
   ],
   "source": [
    "top5_albums = \"\"\"\n",
    "            SELECT albums.Title AS Album, artists.Name AS Artist,\n",
    "                SUM(invoice_items.Quantity*invoice_items.UnitPrice) AS Value,\n",
    "                SUM(invoice_items.Quantity) AS Quantity\n",
    "            FROM albums INNER JOIN artists\n",
    "                ON albums.ArtistId = artists.ArtistId\n",
    "                INNER JOIN tracks\n",
    "                ON albums.AlbumId = tracks.AlbumId\n",
    "                INNER JOIN invoice_items\n",
    "                ON tracks.TrackId = invoice_items.TrackId\n",
    "                INNER JOIN invoices\n",
    "                ON invoice_items.InvoiceId = invoices.InvoiceId\n",
    "            WHERE STRFTIME('%Y', invoices.InvoiceDate) = '2010'\n",
    "            GROUP BY Album\n",
    "            ORDER BY Value DESC\n",
    "            LIMIT 5;\"\"\"\n",
    "\n",
    "time_to_execute(top5_albums)"
   ]
  },
  {
   "cell_type": "code",
   "execution_count": 14,
   "metadata": {},
   "outputs": [
    {
     "data": {
      "text/html": [
       "<div>\n",
       "<style scoped>\n",
       "    .dataframe tbody tr th:only-of-type {\n",
       "        vertical-align: middle;\n",
       "    }\n",
       "\n",
       "    .dataframe tbody tr th {\n",
       "        vertical-align: top;\n",
       "    }\n",
       "\n",
       "    .dataframe thead th {\n",
       "        text-align: right;\n",
       "    }\n",
       "</style>\n",
       "<table border=\"1\" class=\"dataframe\">\n",
       "  <thead>\n",
       "    <tr style=\"text-align: right;\">\n",
       "      <th></th>\n",
       "      <th>Album</th>\n",
       "      <th>Artist</th>\n",
       "      <th>Value</th>\n",
       "      <th>Quantity</th>\n",
       "    </tr>\n",
       "  </thead>\n",
       "  <tbody>\n",
       "    <tr>\n",
       "      <td>0</td>\n",
       "      <td>Acústico</td>\n",
       "      <td>Titãs</td>\n",
       "      <td>8.91</td>\n",
       "      <td>9</td>\n",
       "    </tr>\n",
       "    <tr>\n",
       "      <td>1</td>\n",
       "      <td>Greatest Kiss</td>\n",
       "      <td>Kiss</td>\n",
       "      <td>8.91</td>\n",
       "      <td>9</td>\n",
       "    </tr>\n",
       "    <tr>\n",
       "      <td>2</td>\n",
       "      <td>Prenda Minha</td>\n",
       "      <td>Caetano Veloso</td>\n",
       "      <td>8.91</td>\n",
       "      <td>9</td>\n",
       "    </tr>\n",
       "    <tr>\n",
       "      <td>3</td>\n",
       "      <td>Battlestar Galactica (Classic), Season 1</td>\n",
       "      <td>Battlestar Galactica (Classic)</td>\n",
       "      <td>7.96</td>\n",
       "      <td>4</td>\n",
       "    </tr>\n",
       "    <tr>\n",
       "      <td>4</td>\n",
       "      <td>Battlestar Galactica, Season 3</td>\n",
       "      <td>Battlestar Galactica</td>\n",
       "      <td>7.96</td>\n",
       "      <td>4</td>\n",
       "    </tr>\n",
       "  </tbody>\n",
       "</table>\n",
       "</div>"
      ],
      "text/plain": [
       "                                      Album                          Artist  \\\n",
       "0                                  Acústico                           Titãs   \n",
       "1                             Greatest Kiss                            Kiss   \n",
       "2                              Prenda Minha                  Caetano Veloso   \n",
       "3  Battlestar Galactica (Classic), Season 1  Battlestar Galactica (Classic)   \n",
       "4            Battlestar Galactica, Season 3            Battlestar Galactica   \n",
       "\n",
       "   Value  Quantity  \n",
       "0   8.91         9  \n",
       "1   8.91         9  \n",
       "2   8.91         9  \n",
       "3   7.96         4  \n",
       "4   7.96         4  "
      ]
     },
     "execution_count": 14,
     "metadata": {},
     "output_type": "execute_result"
    }
   ],
   "source": [
    "# To see output\n",
    "pd.read_sql_query(top5_albums, conn)"
   ]
  },
  {
   "cell_type": "markdown",
   "metadata": {},
   "source": [
    "However, _JOIN_ operations are expensive, especially if we need to run this query multiple times. If the data is not updated frequently and a specific set of operations is frequently performed - in our case finding top 5 best-selling albums over a given time period - it may be worthwhile to create a de-normalized view of the data. We'll execute the join operations once and will query the view directly. This view will include the following columns:\n",
    "\n",
    "Album | Artist | Track | QuantitySold | ValueSold | DateSold"
   ]
  },
  {
   "cell_type": "code",
   "execution_count": 15,
   "metadata": {},
   "outputs": [
    {
     "name": "stdout",
     "output_type": "stream",
     "text": [
      "Time to execute: 0.0025 sec\n"
     ]
    }
   ],
   "source": [
    "# Create a view albumSales\n",
    "\n",
    "create_view = \"\"\"\n",
    "            CREATE VIEW IF NOT EXISTS albumSales AS\n",
    "            SELECT albums.Title AS Album, artists.Name AS Artists,\n",
    "                tracks.Name AS Track, invoice_items.Quantity,\n",
    "                (invoice_items.Quantity*invoice_items.UnitPrice) AS Value,\n",
    "                invoices.InvoiceDate AS DateSold\n",
    "            FROM albums INNER JOIN artists\n",
    "                ON albums.ArtistId = artists.ArtistId\n",
    "                INNER JOIN tracks\n",
    "                ON albums.AlbumId = tracks.AlbumId\n",
    "                INNER JOIN invoice_items\n",
    "                ON tracks.TrackId = invoice_items.TrackId\n",
    "                INNER JOIN invoices\n",
    "                ON invoice_items.InvoiceId = invoices.InvoiceId;\n",
    "            \"\"\"\n",
    "time_to_execute(create_view)\n",
    "conn.commit()"
   ]
  },
  {
   "cell_type": "code",
   "execution_count": 16,
   "metadata": {},
   "outputs": [
    {
     "data": {
      "text/html": [
       "<div>\n",
       "<style scoped>\n",
       "    .dataframe tbody tr th:only-of-type {\n",
       "        vertical-align: middle;\n",
       "    }\n",
       "\n",
       "    .dataframe tbody tr th {\n",
       "        vertical-align: top;\n",
       "    }\n",
       "\n",
       "    .dataframe thead th {\n",
       "        text-align: right;\n",
       "    }\n",
       "</style>\n",
       "<table border=\"1\" class=\"dataframe\">\n",
       "  <thead>\n",
       "    <tr style=\"text-align: right;\">\n",
       "      <th></th>\n",
       "      <th>Album</th>\n",
       "      <th>Artists</th>\n",
       "      <th>Track</th>\n",
       "      <th>Quantity</th>\n",
       "      <th>Value</th>\n",
       "      <th>DateSold</th>\n",
       "    </tr>\n",
       "  </thead>\n",
       "  <tbody>\n",
       "    <tr>\n",
       "      <td>0</td>\n",
       "      <td>Balls to the Wall</td>\n",
       "      <td>Accept</td>\n",
       "      <td>Balls to the Wall</td>\n",
       "      <td>1</td>\n",
       "      <td>0.99</td>\n",
       "      <td>2009-01-01 00:00:00</td>\n",
       "    </tr>\n",
       "    <tr>\n",
       "      <td>1</td>\n",
       "      <td>Restless and Wild</td>\n",
       "      <td>Accept</td>\n",
       "      <td>Restless and Wild</td>\n",
       "      <td>1</td>\n",
       "      <td>0.99</td>\n",
       "      <td>2009-01-01 00:00:00</td>\n",
       "    </tr>\n",
       "    <tr>\n",
       "      <td>2</td>\n",
       "      <td>For Those About To Rock We Salute You</td>\n",
       "      <td>AC/DC</td>\n",
       "      <td>Put The Finger On You</td>\n",
       "      <td>1</td>\n",
       "      <td>0.99</td>\n",
       "      <td>2009-01-02 00:00:00</td>\n",
       "    </tr>\n",
       "    <tr>\n",
       "      <td>3</td>\n",
       "      <td>For Those About To Rock We Salute You</td>\n",
       "      <td>AC/DC</td>\n",
       "      <td>Inject The Venom</td>\n",
       "      <td>1</td>\n",
       "      <td>0.99</td>\n",
       "      <td>2009-01-02 00:00:00</td>\n",
       "    </tr>\n",
       "    <tr>\n",
       "      <td>4</td>\n",
       "      <td>For Those About To Rock We Salute You</td>\n",
       "      <td>AC/DC</td>\n",
       "      <td>Evil Walks</td>\n",
       "      <td>1</td>\n",
       "      <td>0.99</td>\n",
       "      <td>2009-01-02 00:00:00</td>\n",
       "    </tr>\n",
       "  </tbody>\n",
       "</table>\n",
       "</div>"
      ],
      "text/plain": [
       "                                   Album Artists                  Track  \\\n",
       "0                      Balls to the Wall  Accept      Balls to the Wall   \n",
       "1                      Restless and Wild  Accept      Restless and Wild   \n",
       "2  For Those About To Rock We Salute You   AC/DC  Put The Finger On You   \n",
       "3  For Those About To Rock We Salute You   AC/DC       Inject The Venom   \n",
       "4  For Those About To Rock We Salute You   AC/DC             Evil Walks   \n",
       "\n",
       "   Quantity  Value             DateSold  \n",
       "0         1   0.99  2009-01-01 00:00:00  \n",
       "1         1   0.99  2009-01-01 00:00:00  \n",
       "2         1   0.99  2009-01-02 00:00:00  \n",
       "3         1   0.99  2009-01-02 00:00:00  \n",
       "4         1   0.99  2009-01-02 00:00:00  "
      ]
     },
     "execution_count": 16,
     "metadata": {},
     "output_type": "execute_result"
    }
   ],
   "source": [
    "# To see the first few entries of our view\n",
    "pd.read_sql_query(\"SELECT * FROM albumSales LIMIT 5;\",conn)"
   ]
  },
  {
   "cell_type": "markdown",
   "metadata": {},
   "source": [
    "Note that we could also group the _albumSales_ view by year. That will speed up future queries even further, but will limit our flexibility in case we'd like to see album sales for a specific month or day rather than a year.\n",
    "\n",
    "Now, getting the top 5 best-selling albums in the year 2010 is quicker. The time difference is much more noticeable in a large table."
   ]
  },
  {
   "cell_type": "code",
   "execution_count": 17,
   "metadata": {},
   "outputs": [
    {
     "name": "stdout",
     "output_type": "stream",
     "text": [
      "Time to execute: 0.0039 sec\n"
     ]
    }
   ],
   "source": [
    "top5_albums_view = \"\"\"\n",
    "            SELECT Album, Artists, SUM(Value) AS Value, SUM(Quantity) AS Quantity\n",
    "            FROM albumSales\n",
    "            WHERE STRFTIME('%Y', DateSold) = '2010'\n",
    "            GROUP BY Album\n",
    "            ORDER BY Value DESC\n",
    "            LIMIT 5;\"\"\"\n",
    "\n",
    "time_to_execute(top5_albums_view)"
   ]
  },
  {
   "cell_type": "code",
   "execution_count": 18,
   "metadata": {},
   "outputs": [
    {
     "data": {
      "text/html": [
       "<div>\n",
       "<style scoped>\n",
       "    .dataframe tbody tr th:only-of-type {\n",
       "        vertical-align: middle;\n",
       "    }\n",
       "\n",
       "    .dataframe tbody tr th {\n",
       "        vertical-align: top;\n",
       "    }\n",
       "\n",
       "    .dataframe thead th {\n",
       "        text-align: right;\n",
       "    }\n",
       "</style>\n",
       "<table border=\"1\" class=\"dataframe\">\n",
       "  <thead>\n",
       "    <tr style=\"text-align: right;\">\n",
       "      <th></th>\n",
       "      <th>Album</th>\n",
       "      <th>Artists</th>\n",
       "      <th>Value</th>\n",
       "      <th>Quantity</th>\n",
       "    </tr>\n",
       "  </thead>\n",
       "  <tbody>\n",
       "    <tr>\n",
       "      <td>0</td>\n",
       "      <td>Acústico</td>\n",
       "      <td>Titãs</td>\n",
       "      <td>8.91</td>\n",
       "      <td>9</td>\n",
       "    </tr>\n",
       "    <tr>\n",
       "      <td>1</td>\n",
       "      <td>Greatest Kiss</td>\n",
       "      <td>Kiss</td>\n",
       "      <td>8.91</td>\n",
       "      <td>9</td>\n",
       "    </tr>\n",
       "    <tr>\n",
       "      <td>2</td>\n",
       "      <td>Prenda Minha</td>\n",
       "      <td>Caetano Veloso</td>\n",
       "      <td>8.91</td>\n",
       "      <td>9</td>\n",
       "    </tr>\n",
       "    <tr>\n",
       "      <td>3</td>\n",
       "      <td>Battlestar Galactica (Classic), Season 1</td>\n",
       "      <td>Battlestar Galactica (Classic)</td>\n",
       "      <td>7.96</td>\n",
       "      <td>4</td>\n",
       "    </tr>\n",
       "    <tr>\n",
       "      <td>4</td>\n",
       "      <td>Battlestar Galactica, Season 3</td>\n",
       "      <td>Battlestar Galactica</td>\n",
       "      <td>7.96</td>\n",
       "      <td>4</td>\n",
       "    </tr>\n",
       "  </tbody>\n",
       "</table>\n",
       "</div>"
      ],
      "text/plain": [
       "                                      Album                         Artists  \\\n",
       "0                                  Acústico                           Titãs   \n",
       "1                             Greatest Kiss                            Kiss   \n",
       "2                              Prenda Minha                  Caetano Veloso   \n",
       "3  Battlestar Galactica (Classic), Season 1  Battlestar Galactica (Classic)   \n",
       "4            Battlestar Galactica, Season 3            Battlestar Galactica   \n",
       "\n",
       "   Value  Quantity  \n",
       "0   8.91         9  \n",
       "1   8.91         9  \n",
       "2   8.91         9  \n",
       "3   7.96         4  \n",
       "4   7.96         4  "
      ]
     },
     "execution_count": 18,
     "metadata": {},
     "output_type": "execute_result"
    }
   ],
   "source": [
    "# To see output\n",
    "pd.read_sql_query(top5_albums_view, conn)"
   ]
  },
  {
   "cell_type": "markdown",
   "metadata": {},
   "source": [
    "## Part 3: Temporary Tables\n",
    "\n",
    "Temporary tables are similar to views in that they can also be created by querying existing tables and can be queried themselves. Unlike views, temporary tables are only visible to the user that created them and are automatically dropped once the connection to the database is closed. \n",
    "\n",
    "Suppose we wanted to compute query A and query B, both of which will need to use output from query C. Rather than computing C twice, separately for A and B, we can compute C and store it in a temporary table for quick access.\n",
    "\n",
    "In this example we'll create a temporary table storing (C) each customer's spending to be used as an intermediary computation in determining (A) the total value of all purchases serviced by each employee and (B) the top 3 spending countries. Our temporary table will have the following columns:\n",
    "\n",
    "CustomerId | TotalSpent | Country | SupportRepId"
   ]
  },
  {
   "cell_type": "code",
   "execution_count": 19,
   "metadata": {},
   "outputs": [
    {
     "name": "stdout",
     "output_type": "stream",
     "text": [
      "Time to execute: 0.0020 sec\n"
     ]
    }
   ],
   "source": [
    "# Create temporary table (C)\n",
    "create_temp_table = \"\"\"\n",
    "            CREATE TEMPORARY TABLE IF NOT EXISTS custSpending AS\n",
    "            SELECT customers.CustomerId, SUM(invoices.Total) AS TotalSpent,\n",
    "                customers.Country, customers.SupportRepId\n",
    "            FROM invoices INNER JOIN customers\n",
    "                ON invoices.CustomerId = customers.CustomerId\n",
    "            GROUP BY customers.CustomerID;\"\"\"\n",
    "\n",
    "time_to_execute(create_temp_table)\n",
    "conn.commit()"
   ]
  },
  {
   "cell_type": "code",
   "execution_count": 20,
   "metadata": {},
   "outputs": [
    {
     "data": {
      "text/html": [
       "<div>\n",
       "<style scoped>\n",
       "    .dataframe tbody tr th:only-of-type {\n",
       "        vertical-align: middle;\n",
       "    }\n",
       "\n",
       "    .dataframe tbody tr th {\n",
       "        vertical-align: top;\n",
       "    }\n",
       "\n",
       "    .dataframe thead th {\n",
       "        text-align: right;\n",
       "    }\n",
       "</style>\n",
       "<table border=\"1\" class=\"dataframe\">\n",
       "  <thead>\n",
       "    <tr style=\"text-align: right;\">\n",
       "      <th></th>\n",
       "      <th>CustomerId</th>\n",
       "      <th>TotalSpent</th>\n",
       "      <th>Country</th>\n",
       "      <th>SupportRepId</th>\n",
       "    </tr>\n",
       "  </thead>\n",
       "  <tbody>\n",
       "    <tr>\n",
       "      <td>0</td>\n",
       "      <td>1</td>\n",
       "      <td>39.62</td>\n",
       "      <td>Brazil</td>\n",
       "      <td>3</td>\n",
       "    </tr>\n",
       "    <tr>\n",
       "      <td>1</td>\n",
       "      <td>2</td>\n",
       "      <td>37.62</td>\n",
       "      <td>Germany</td>\n",
       "      <td>5</td>\n",
       "    </tr>\n",
       "    <tr>\n",
       "      <td>2</td>\n",
       "      <td>3</td>\n",
       "      <td>39.62</td>\n",
       "      <td>Canada</td>\n",
       "      <td>3</td>\n",
       "    </tr>\n",
       "    <tr>\n",
       "      <td>3</td>\n",
       "      <td>4</td>\n",
       "      <td>39.62</td>\n",
       "      <td>Norway</td>\n",
       "      <td>4</td>\n",
       "    </tr>\n",
       "    <tr>\n",
       "      <td>4</td>\n",
       "      <td>5</td>\n",
       "      <td>40.62</td>\n",
       "      <td>Czech Republic</td>\n",
       "      <td>4</td>\n",
       "    </tr>\n",
       "  </tbody>\n",
       "</table>\n",
       "</div>"
      ],
      "text/plain": [
       "   CustomerId  TotalSpent         Country  SupportRepId\n",
       "0           1       39.62          Brazil             3\n",
       "1           2       37.62         Germany             5\n",
       "2           3       39.62          Canada             3\n",
       "3           4       39.62          Norway             4\n",
       "4           5       40.62  Czech Republic             4"
      ]
     },
     "execution_count": 20,
     "metadata": {},
     "output_type": "execute_result"
    }
   ],
   "source": [
    "# To see the first few entries of our temporary table\n",
    "pd.read_sql_query(\"SELECT * FROM custSpending LIMIT 5;\",conn)"
   ]
  },
  {
   "cell_type": "code",
   "execution_count": 21,
   "metadata": {},
   "outputs": [
    {
     "name": "stdout",
     "output_type": "stream",
     "text": [
      "Time to execute: 0.0009 sec\n"
     ]
    }
   ],
   "source": [
    "# Compute the total value of all purchases serviced by each employee (A)\n",
    "empl_value = \"\"\"\n",
    "            SELECT (employees.FirstName || ' ' || employees.LastName) AS Employee,\n",
    "                SUM(custSpending.TotalSpent) AS AmountServiced\n",
    "            FROM employees LEFT OUTER JOIN custSpending\n",
    "                ON employees.EmployeeId = custSpending.SupportRepId \n",
    "            GROUP BY employees.EmployeeId\"\"\"\n",
    "\n",
    "time_to_execute(empl_value)"
   ]
  },
  {
   "cell_type": "code",
   "execution_count": 22,
   "metadata": {},
   "outputs": [
    {
     "data": {
      "text/html": [
       "<div>\n",
       "<style scoped>\n",
       "    .dataframe tbody tr th:only-of-type {\n",
       "        vertical-align: middle;\n",
       "    }\n",
       "\n",
       "    .dataframe tbody tr th {\n",
       "        vertical-align: top;\n",
       "    }\n",
       "\n",
       "    .dataframe thead th {\n",
       "        text-align: right;\n",
       "    }\n",
       "</style>\n",
       "<table border=\"1\" class=\"dataframe\">\n",
       "  <thead>\n",
       "    <tr style=\"text-align: right;\">\n",
       "      <th></th>\n",
       "      <th>Employee</th>\n",
       "      <th>AmountServiced</th>\n",
       "    </tr>\n",
       "  </thead>\n",
       "  <tbody>\n",
       "    <tr>\n",
       "      <td>0</td>\n",
       "      <td>Andrew Adams</td>\n",
       "      <td>NaN</td>\n",
       "    </tr>\n",
       "    <tr>\n",
       "      <td>1</td>\n",
       "      <td>Nancy Edwards</td>\n",
       "      <td>NaN</td>\n",
       "    </tr>\n",
       "    <tr>\n",
       "      <td>2</td>\n",
       "      <td>Jane Peacock</td>\n",
       "      <td>833.04</td>\n",
       "    </tr>\n",
       "    <tr>\n",
       "      <td>3</td>\n",
       "      <td>Margaret Park</td>\n",
       "      <td>775.40</td>\n",
       "    </tr>\n",
       "    <tr>\n",
       "      <td>4</td>\n",
       "      <td>Steve Johnson</td>\n",
       "      <td>720.16</td>\n",
       "    </tr>\n",
       "    <tr>\n",
       "      <td>5</td>\n",
       "      <td>Michael Mitchell</td>\n",
       "      <td>NaN</td>\n",
       "    </tr>\n",
       "    <tr>\n",
       "      <td>6</td>\n",
       "      <td>Robert King</td>\n",
       "      <td>NaN</td>\n",
       "    </tr>\n",
       "    <tr>\n",
       "      <td>7</td>\n",
       "      <td>Laura Callahan</td>\n",
       "      <td>NaN</td>\n",
       "    </tr>\n",
       "  </tbody>\n",
       "</table>\n",
       "</div>"
      ],
      "text/plain": [
       "           Employee  AmountServiced\n",
       "0      Andrew Adams             NaN\n",
       "1     Nancy Edwards             NaN\n",
       "2      Jane Peacock          833.04\n",
       "3     Margaret Park          775.40\n",
       "4     Steve Johnson          720.16\n",
       "5  Michael Mitchell             NaN\n",
       "6       Robert King             NaN\n",
       "7    Laura Callahan             NaN"
      ]
     },
     "execution_count": 22,
     "metadata": {},
     "output_type": "execute_result"
    }
   ],
   "source": [
    "# To see output\n",
    "pd.read_sql_query(empl_value, conn)"
   ]
  },
  {
   "cell_type": "markdown",
   "metadata": {},
   "source": [
    "Based on this output we can see that there are only three employees that have taken customer orders. NaN values mean there are no data entries."
   ]
  },
  {
   "cell_type": "code",
   "execution_count": 23,
   "metadata": {},
   "outputs": [
    {
     "name": "stdout",
     "output_type": "stream",
     "text": [
      "Time to execute: 0.0008 sec\n"
     ]
    }
   ],
   "source": [
    "# Compute top 3 spending countries (B)\n",
    "top3_countries = \"\"\"\n",
    "            SELECT Country, (SUM(TotalSpent) || '$') AS Spending\n",
    "            FROM custSpending\n",
    "            GROUP BY Country\n",
    "            ORDER BY SUM(TotalSpent) DESC\n",
    "            LIMIT 3;\"\"\"\n",
    "\n",
    "time_to_execute(top3_countries)"
   ]
  },
  {
   "cell_type": "code",
   "execution_count": 24,
   "metadata": {},
   "outputs": [
    {
     "data": {
      "text/html": [
       "<div>\n",
       "<style scoped>\n",
       "    .dataframe tbody tr th:only-of-type {\n",
       "        vertical-align: middle;\n",
       "    }\n",
       "\n",
       "    .dataframe tbody tr th {\n",
       "        vertical-align: top;\n",
       "    }\n",
       "\n",
       "    .dataframe thead th {\n",
       "        text-align: right;\n",
       "    }\n",
       "</style>\n",
       "<table border=\"1\" class=\"dataframe\">\n",
       "  <thead>\n",
       "    <tr style=\"text-align: right;\">\n",
       "      <th></th>\n",
       "      <th>Country</th>\n",
       "      <th>Spending</th>\n",
       "    </tr>\n",
       "  </thead>\n",
       "  <tbody>\n",
       "    <tr>\n",
       "      <td>0</td>\n",
       "      <td>USA</td>\n",
       "      <td>523.06$</td>\n",
       "    </tr>\n",
       "    <tr>\n",
       "      <td>1</td>\n",
       "      <td>Canada</td>\n",
       "      <td>303.96$</td>\n",
       "    </tr>\n",
       "    <tr>\n",
       "      <td>2</td>\n",
       "      <td>France</td>\n",
       "      <td>195.1$</td>\n",
       "    </tr>\n",
       "  </tbody>\n",
       "</table>\n",
       "</div>"
      ],
      "text/plain": [
       "  Country Spending\n",
       "0     USA  523.06$\n",
       "1  Canada  303.96$\n",
       "2  France   195.1$"
      ]
     },
     "execution_count": 24,
     "metadata": {},
     "output_type": "execute_result"
    }
   ],
   "source": [
    "# To see output\n",
    "pd.read_sql_query(top3_countries, conn)"
   ]
  },
  {
   "cell_type": "markdown",
   "metadata": {},
   "source": [
    "Not surprisingly, USA spent the most money on this service provider.\n",
    "\n",
    "Note that the two queries above were simplified significantly and we avoided redundant computations by using a temporary table. Once we close our connection to the database, this table will be automatically dropped and space that it was taking up will be restored."
   ]
  },
  {
   "cell_type": "markdown",
   "metadata": {},
   "source": [
    "## Part 4: Subqueries\n",
    "\n",
    "Subqueries are queries computed within queries. The most frequent places to call a subquery are within _FROM, WHERE_ and _HAVING_ statements. Subqueries can be correlated and non-correlated. Non-correlated subqueries are much more time efficient as they do not depend on the outer query and are therefore computed only once. Correlated queries are computed once for each row in the outer query that they depend on."
   ]
  },
  {
   "cell_type": "markdown",
   "metadata": {},
   "source": [
    "Suppose we would like to determine the number of movies stored in our database. To determine how to define a track as a movie, let's see all of the available tack genres."
   ]
  },
  {
   "cell_type": "code",
   "execution_count": 25,
   "metadata": {},
   "outputs": [
    {
     "data": {
      "text/html": [
       "<div>\n",
       "<style scoped>\n",
       "    .dataframe tbody tr th:only-of-type {\n",
       "        vertical-align: middle;\n",
       "    }\n",
       "\n",
       "    .dataframe tbody tr th {\n",
       "        vertical-align: top;\n",
       "    }\n",
       "\n",
       "    .dataframe thead th {\n",
       "        text-align: right;\n",
       "    }\n",
       "</style>\n",
       "<table border=\"1\" class=\"dataframe\">\n",
       "  <thead>\n",
       "    <tr style=\"text-align: right;\">\n",
       "      <th></th>\n",
       "      <th>Genre</th>\n",
       "    </tr>\n",
       "  </thead>\n",
       "  <tbody>\n",
       "    <tr>\n",
       "      <td>0</td>\n",
       "      <td>Rock</td>\n",
       "    </tr>\n",
       "    <tr>\n",
       "      <td>1</td>\n",
       "      <td>Jazz</td>\n",
       "    </tr>\n",
       "    <tr>\n",
       "      <td>2</td>\n",
       "      <td>Metal</td>\n",
       "    </tr>\n",
       "    <tr>\n",
       "      <td>3</td>\n",
       "      <td>Alternative &amp; Punk</td>\n",
       "    </tr>\n",
       "    <tr>\n",
       "      <td>4</td>\n",
       "      <td>Rock And Roll</td>\n",
       "    </tr>\n",
       "    <tr>\n",
       "      <td>5</td>\n",
       "      <td>Blues</td>\n",
       "    </tr>\n",
       "    <tr>\n",
       "      <td>6</td>\n",
       "      <td>Latin</td>\n",
       "    </tr>\n",
       "    <tr>\n",
       "      <td>7</td>\n",
       "      <td>Reggae</td>\n",
       "    </tr>\n",
       "    <tr>\n",
       "      <td>8</td>\n",
       "      <td>Pop</td>\n",
       "    </tr>\n",
       "    <tr>\n",
       "      <td>9</td>\n",
       "      <td>Soundtrack</td>\n",
       "    </tr>\n",
       "    <tr>\n",
       "      <td>10</td>\n",
       "      <td>Bossa Nova</td>\n",
       "    </tr>\n",
       "    <tr>\n",
       "      <td>11</td>\n",
       "      <td>Easy Listening</td>\n",
       "    </tr>\n",
       "    <tr>\n",
       "      <td>12</td>\n",
       "      <td>Heavy Metal</td>\n",
       "    </tr>\n",
       "    <tr>\n",
       "      <td>13</td>\n",
       "      <td>R&amp;B/Soul</td>\n",
       "    </tr>\n",
       "    <tr>\n",
       "      <td>14</td>\n",
       "      <td>Electronica/Dance</td>\n",
       "    </tr>\n",
       "    <tr>\n",
       "      <td>15</td>\n",
       "      <td>World</td>\n",
       "    </tr>\n",
       "    <tr>\n",
       "      <td>16</td>\n",
       "      <td>Hip Hop/Rap</td>\n",
       "    </tr>\n",
       "    <tr>\n",
       "      <td>17</td>\n",
       "      <td>Science Fiction</td>\n",
       "    </tr>\n",
       "    <tr>\n",
       "      <td>18</td>\n",
       "      <td>TV Shows</td>\n",
       "    </tr>\n",
       "    <tr>\n",
       "      <td>19</td>\n",
       "      <td>Sci Fi &amp; Fantasy</td>\n",
       "    </tr>\n",
       "    <tr>\n",
       "      <td>20</td>\n",
       "      <td>Drama</td>\n",
       "    </tr>\n",
       "    <tr>\n",
       "      <td>21</td>\n",
       "      <td>Comedy</td>\n",
       "    </tr>\n",
       "    <tr>\n",
       "      <td>22</td>\n",
       "      <td>Alternative</td>\n",
       "    </tr>\n",
       "    <tr>\n",
       "      <td>23</td>\n",
       "      <td>Classical</td>\n",
       "    </tr>\n",
       "    <tr>\n",
       "      <td>24</td>\n",
       "      <td>Opera</td>\n",
       "    </tr>\n",
       "  </tbody>\n",
       "</table>\n",
       "</div>"
      ],
      "text/plain": [
       "                 Genre\n",
       "0                 Rock\n",
       "1                 Jazz\n",
       "2                Metal\n",
       "3   Alternative & Punk\n",
       "4        Rock And Roll\n",
       "5                Blues\n",
       "6                Latin\n",
       "7               Reggae\n",
       "8                  Pop\n",
       "9           Soundtrack\n",
       "10          Bossa Nova\n",
       "11      Easy Listening\n",
       "12         Heavy Metal\n",
       "13            R&B/Soul\n",
       "14   Electronica/Dance\n",
       "15               World\n",
       "16         Hip Hop/Rap\n",
       "17     Science Fiction\n",
       "18            TV Shows\n",
       "19    Sci Fi & Fantasy\n",
       "20               Drama\n",
       "21              Comedy\n",
       "22         Alternative\n",
       "23           Classical\n",
       "24               Opera"
      ]
     },
     "execution_count": 25,
     "metadata": {},
     "output_type": "execute_result"
    }
   ],
   "source": [
    "pd.read_sql_query(\"SELECT Name as Genre FROM genres\", conn)"
   ]
  },
  {
   "cell_type": "markdown",
   "metadata": {},
   "source": [
    "Based on this output we'll assume that a track is a movie if it is under \"Sci Fi & Fantasy\", \"Drama\" or \"Comedy\" genres.\n",
    "\n",
    "An intuitive but perhaps inefficient way to compute the number of all movies is to join tables _genres_ and _tracks_ as follows."
   ]
  },
  {
   "cell_type": "code",
   "execution_count": 26,
   "metadata": {},
   "outputs": [
    {
     "name": "stdout",
     "output_type": "stream",
     "text": [
      "Time to execute: 0.0001 sec\n"
     ]
    }
   ],
   "source": [
    "tracks_in_genres = \"\"\"\n",
    "            SELECT COUNT(tracks.TrackId) AS \"Number of Movies\"\n",
    "            FROM genres INNER JOIN tracks\n",
    "                ON genres.GenreId = tracks.GenreId\n",
    "            WHERE genres.Name IN (\"Sci Fi & Fantasy\", \"Drama\", \"Comedy\")\"\"\"\n",
    "\n",
    "time_to_execute(empl_value)"
   ]
  },
  {
   "cell_type": "code",
   "execution_count": 27,
   "metadata": {},
   "outputs": [
    {
     "data": {
      "text/html": [
       "<div>\n",
       "<style scoped>\n",
       "    .dataframe tbody tr th:only-of-type {\n",
       "        vertical-align: middle;\n",
       "    }\n",
       "\n",
       "    .dataframe tbody tr th {\n",
       "        vertical-align: top;\n",
       "    }\n",
       "\n",
       "    .dataframe thead th {\n",
       "        text-align: right;\n",
       "    }\n",
       "</style>\n",
       "<table border=\"1\" class=\"dataframe\">\n",
       "  <thead>\n",
       "    <tr style=\"text-align: right;\">\n",
       "      <th></th>\n",
       "      <th>Number of Movies</th>\n",
       "    </tr>\n",
       "  </thead>\n",
       "  <tbody>\n",
       "    <tr>\n",
       "      <td>0</td>\n",
       "      <td>107</td>\n",
       "    </tr>\n",
       "  </tbody>\n",
       "</table>\n",
       "</div>"
      ],
      "text/plain": [
       "   Number of Movies\n",
       "0               107"
      ]
     },
     "execution_count": 27,
     "metadata": {},
     "output_type": "execute_result"
    }
   ],
   "source": [
    "# To see output\n",
    "pd.read_sql_query(tracks_in_genres, conn)"
   ]
  },
  {
   "cell_type": "markdown",
   "metadata": {},
   "source": [
    "If the columns on which we're joining tables aren't indexed, the _JOIN_ operation will scan the right table for every left join key in the left table, doing approximately $O(n^2)$ work. In this case _genre.GenreId_ and _tracks.GenreId_ are primary and foreign keys, respectively, so the _JOIN_ operation will be performed quicker.\n",
    "\n",
    "Using a _JOIN_ in this case is still wasteful as we don't need to join the _tracks_ table with any genres that aren't Sci Fi & Fantasy, Drama or Comedy. This is especially evident when the tables we are joining are large. To avoid unnecessary computations, we can use a subquery."
   ]
  },
  {
   "cell_type": "code",
   "execution_count": 28,
   "metadata": {},
   "outputs": [
    {
     "name": "stdout",
     "output_type": "stream",
     "text": [
      "Time to execute: 0.0001 sec\n"
     ]
    }
   ],
   "source": [
    "tracks_in_genres_sub = \"\"\"\n",
    "            SELECT COUNT(TrackId) AS \"Number of Movies\"\n",
    "            FROM tracks\n",
    "            WHERE GenreId IN (SELECT GenreId FROM genres WHERE Name IN (\"Sci Fi & Fantasy\", \"Drama\", \"Comedy\"))\"\"\"\n",
    "\n",
    "time_to_execute(empl_value)"
   ]
  },
  {
   "cell_type": "code",
   "execution_count": 29,
   "metadata": {},
   "outputs": [
    {
     "data": {
      "text/html": [
       "<div>\n",
       "<style scoped>\n",
       "    .dataframe tbody tr th:only-of-type {\n",
       "        vertical-align: middle;\n",
       "    }\n",
       "\n",
       "    .dataframe tbody tr th {\n",
       "        vertical-align: top;\n",
       "    }\n",
       "\n",
       "    .dataframe thead th {\n",
       "        text-align: right;\n",
       "    }\n",
       "</style>\n",
       "<table border=\"1\" class=\"dataframe\">\n",
       "  <thead>\n",
       "    <tr style=\"text-align: right;\">\n",
       "      <th></th>\n",
       "      <th>Number of Movies</th>\n",
       "    </tr>\n",
       "  </thead>\n",
       "  <tbody>\n",
       "    <tr>\n",
       "      <td>0</td>\n",
       "      <td>107</td>\n",
       "    </tr>\n",
       "  </tbody>\n",
       "</table>\n",
       "</div>"
      ],
      "text/plain": [
       "   Number of Movies\n",
       "0               107"
      ]
     },
     "execution_count": 29,
     "metadata": {},
     "output_type": "execute_result"
    }
   ],
   "source": [
    "# To see output\n",
    "pd.read_sql_query(tracks_in_genres_sub, conn)"
   ]
  },
  {
   "cell_type": "markdown",
   "metadata": {},
   "source": [
    "In this example we were able to avoid unnecessary computations and simplify our query. Our subquery generated a result set consisting of only three values, which we then used directly in our WHERE clause."
   ]
  },
  {
   "cell_type": "code",
   "execution_count": 30,
   "metadata": {},
   "outputs": [],
   "source": [
    "conn.close()"
   ]
  },
  {
   "cell_type": "markdown",
   "metadata": {},
   "source": [
    "## Additional Resources"
   ]
  },
  {
   "cell_type": "markdown",
   "metadata": {},
   "source": [
    "- More on [indexes](https://www.tutorialspoint.com/sql/sql-indexes.htm)\n",
    "- More on [views](https://www.w3schools.com/sql/sql_view.asp) \n",
    "- More on [temporary tables](https://codingsight.com/introduction-to-temporary-tables-in-sql-server/)\n",
    "- More on [subqueries](https://www.geeksforgeeks.org/sql-sub-queries/)"
   ]
  }
 ],
 "metadata": {
  "kernelspec": {
   "display_name": "Python 3",
   "language": "python",
   "name": "python3"
  },
  "language_info": {
   "codemirror_mode": {
    "name": "ipython",
    "version": 3
   },
   "file_extension": ".py",
   "mimetype": "text/x-python",
   "name": "python",
   "nbconvert_exporter": "python",
   "pygments_lexer": "ipython3",
   "version": "3.7.3"
  }
 },
 "nbformat": 4,
 "nbformat_minor": 2
}
